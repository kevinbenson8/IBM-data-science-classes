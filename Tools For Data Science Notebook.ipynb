{
  "metadata": {
    "language_info": {
      "codemirror_mode": {
        "name": "python",
        "version": 3
      },
      "file_extension": ".py",
      "mimetype": "text/x-python",
      "name": "python",
      "nbconvert_exporter": "python",
      "pygments_lexer": "ipython3",
      "version": "3.8"
    },
    "kernelspec": {
      "name": "python",
      "display_name": "Python (Pyodide)",
      "language": "python"
    }
  },
  "nbformat_minor": 4,
  "nbformat": 4,
  "cells": [
    {
      "cell_type": "markdown",
      "source": "# My Jupyter Notebook in IBM Watson Studio",
      "metadata": {}
    },
    {
      "cell_type": "markdown",
      "source": "**Kevin Benson**\n<br>\nInstrumentation Engineer",
      "metadata": {}
    },
    {
      "cell_type": "markdown",
      "source": "_I am interested in data science because I would like to be able to make sense of trends I see in my life, and then consequentially make predictions_",
      "metadata": {}
    },
    {
      "cell_type": "markdown",
      "source": "### The code in the next cell will print a random number between 0 and 20",
      "metadata": {}
    },
    {
      "cell_type": "code",
      "source": "import random\nprint(random.randrange(20))",
      "metadata": {
        "trusted": true
      },
      "execution_count": 5,
      "outputs": [
        {
          "name": "stdout",
          "text": "12\n",
          "output_type": "stream"
        }
      ]
    },
    {
      "cell_type": "markdown",
      "source": "[Here is an interesting motivational quote generator that uses machine learning](https://inspirobot.me/)\n- these\n- are\n- bullets\n> this is a blocked quote\n",
      "metadata": {}
    }
  ]
}